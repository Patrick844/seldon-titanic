{
 "cells": [
  {
   "cell_type": "code",
   "execution_count": 1,
   "id": "b07e7f8d",
   "metadata": {},
   "outputs": [
    {
     "name": "stdout",
     "output_type": "stream",
     "text": [
      "{'data': {'names': [], 'ndarray': [0.0]}, 'meta': {'metrics': [{'key': 'died_counter', 'type': 'COUNTER', 'value': 1}], 'requestPath': {'classifier': 'seldonio/titanic:1.8.3'}}}\n",
      "\n",
      "#####################\n",
      "\n",
      "Braund, Mr. Owen Harris  survived\n",
      "\n",
      " \n",
      "{'data': {'names': [], 'ndarray': [1.0]}, 'meta': {'metrics': [{'key': 'survived_counter', 'type': 'COUNTER', 'value': 1}], 'requestPath': {'classifier': 'seldonio/titanic:1.8.3'}}}\n",
      "\n",
      "#####################\n",
      "\n",
      "Cumings, Mrs. John Bradley (Florence Briggs Thayer)  died\n",
      "\n",
      "{'data': {'names': [], 'ndarray': [1.0]}, 'meta': {'metrics': [{'key': 'survived_counter', 'type': 'COUNTER', 'value': 1}], 'requestPath': {'classifier': 'seldonio/titanic:1.8.3'}}}\n",
      "\n",
      "#####################\n",
      "\n",
      "Heikkinen, Miss. Laina  died\n",
      "\n",
      "{'data': {'names': [], 'ndarray': [1.0]}, 'meta': {'metrics': [{'key': 'survived_counter', 'type': 'COUNTER', 'value': 1}], 'requestPath': {'classifier': 'seldonio/titanic:1.8.3'}}}\n",
      "\n",
      "#####################\n",
      "\n",
      "Futrelle, Mrs. Jacques Heath (Lily May Peel)  died\n",
      "\n",
      "{'data': {'names': [], 'ndarray': [0.0]}, 'meta': {'metrics': [{'key': 'died_counter', 'type': 'COUNTER', 'value': 1}], 'requestPath': {'classifier': 'seldonio/titanic:1.8.3'}}}\n",
      "\n",
      "#####################\n",
      "\n",
      "Allen, Mr. William Henry  survived\n",
      "\n",
      " \n",
      "{'data': {'names': [], 'ndarray': [0.0]}, 'meta': {'metrics': [{'key': 'died_counter', 'type': 'COUNTER', 'value': 1}], 'requestPath': {'classifier': 'seldonio/titanic:1.8.3'}}}\n",
      "\n",
      "#####################\n",
      "\n",
      "Moran, Mr. James  survived\n",
      "\n",
      " \n",
      "{'data': {'names': [], 'ndarray': [0.0]}, 'meta': {'metrics': [{'key': 'died_counter', 'type': 'COUNTER', 'value': 1}], 'requestPath': {'classifier': 'seldonio/titanic:1.8.3'}}}\n",
      "\n",
      "#####################\n",
      "\n",
      "McCarthy, Mr. Timothy J  survived\n",
      "\n",
      " \n"
     ]
    }
   ],
   "source": [
    "import numpy as np\n",
    "from seldon_core.seldon_client import SeldonClient\n",
    "import pandas as pd\n",
    "\n",
    "df = pd.read_csv(\"../data/train.csv\")\n",
    "\n",
    "sc = SeldonClient(\n",
    "    gateway=\"istio\",\n",
    "    transport=\"rest\",\n",
    "    gateway_endpoint=\"localhost:8081\",  \n",
    "    namespace=\"default\",\n",
    ")\n",
    "\n",
    "for i in range (0,7):\n",
    "\n",
    "    client_prediction = sc.predict(\n",
    "        data=np.array([df.iloc[i][\"Pclass\"],df.iloc[i][\"Sex\"],df.iloc[i][\"Age\"],df.iloc[i][\"SibSp\"],df.iloc[i][\"Parch\"],df.iloc[i][\"Fare\"],df.iloc[i][\"Embarked\"]]),\n",
    "        deployment_name=\"titanic-classifier\",\n",
    "        names=['pclass', 'sex', 'age', 'sibSp', 'parch', 'fare', 'embarked'],\n",
    "        payload_type=\"ndarray\",\n",
    "    )\n",
    "    prediction = (client_prediction)\n",
    "    print(client_prediction.response)\n",
    "    print(\"\")\n",
    "    print(\"#####################\")\n",
    "    print('')\n",
    "    if prediction.response[\"data\"][\"ndarray\"][0] == 1:\n",
    "        print(df.iloc[i][\"Name\"], \" died\")\n",
    "        print('')\n",
    "\n",
    "    else:\n",
    "        print(df.iloc[i][\"Name\"],\" survived\")\n",
    "        print(\"\")\n",
    "        print(\" \")"
   ]
  },
  {
   "cell_type": "code",
   "execution_count": 98,
   "id": "fafdd243",
   "metadata": {},
   "outputs": [
    {
     "data": {
      "text/plain": [
       "{'status': {'code': -1,\n",
       "  'info': \"'Titanic' object has no attribute 'result'\",\n",
       "  'reason': 'MICROSERVICE_INTERNAL_ERROR',\n",
       "  'status': 1}}"
      ]
     },
     "execution_count": 98,
     "metadata": {},
     "output_type": "execute_result"
    }
   ],
   "source": [
    "prediction.response"
   ]
  },
  {
   "cell_type": "code",
   "execution_count": 83,
   "id": "9871d9a5",
   "metadata": {},
   "outputs": [
    {
     "data": {
      "text/plain": [
       "False"
      ]
     },
     "execution_count": 83,
     "metadata": {},
     "output_type": "execute_result"
    }
   ],
   "source": [
    "df.iloc[5][\"Age\"].tolist() == df.iloc[5][\"Age\"].tolist()"
   ]
  },
  {
   "cell_type": "code",
   "execution_count": 91,
   "id": "9aa6ad0b",
   "metadata": {},
   "outputs": [
    {
     "data": {
      "text/plain": [
       "numpy.float64"
      ]
     },
     "execution_count": 91,
     "metadata": {},
     "output_type": "execute_result"
    }
   ],
   "source": [
    "import math\n",
    "\n",
    "type(df.iloc[5][\"Age\"])"
   ]
  },
  {
   "cell_type": "code",
   "execution_count": 109,
   "id": "9d9dcf7d",
   "metadata": {},
   "outputs": [
    {
     "data": {
      "text/plain": [
       "str"
      ]
     },
     "execution_count": 109,
     "metadata": {},
     "output_type": "execute_result"
    }
   ],
   "source": [
    "type(np.array2string(df.iloc[5][\"Age\"]))"
   ]
  },
  {
   "cell_type": "code",
   "execution_count": null,
   "id": "38c7186f",
   "metadata": {},
   "outputs": [],
   "source": []
  }
 ],
 "metadata": {
  "kernelspec": {
   "display_name": "Python 3 (ipykernel)",
   "language": "python",
   "name": "python3"
  },
  "language_info": {
   "codemirror_mode": {
    "name": "ipython",
    "version": 3
   },
   "file_extension": ".py",
   "mimetype": "text/x-python",
   "name": "python",
   "nbconvert_exporter": "python",
   "pygments_lexer": "ipython3",
   "version": "3.8.15"
  }
 },
 "nbformat": 4,
 "nbformat_minor": 5
}
