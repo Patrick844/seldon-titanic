{
 "cells": [
  {
   "cell_type": "code",
   "execution_count": 10,
   "id": "cb285b87",
   "metadata": {},
   "outputs": [
    {
     "name": "stdout",
     "output_type": "stream",
     "text": [
      "Requirement already satisfied: Jinja2 in /Users/psaade/miniconda3/envs/seldon-titanic/lib/python3.8/site-packages (3.0.3)\r\n",
      "Requirement already satisfied: MarkupSafe>=2.0 in /Users/psaade/miniconda3/envs/seldon-titanic/lib/python3.8/site-packages (from Jinja2) (2.1.1)\r\n"
     ]
    }
   ],
   "source": [
    "! pip install Jinja2"
   ]
  },
  {
   "cell_type": "code",
   "execution_count": 1,
   "id": "b07e7f8d",
   "metadata": {},
   "outputs": [
    {
     "name": "stdout",
     "output_type": "stream",
     "text": [
      "{'data': {'names': [], 'ndarray': [0]}, 'meta': {'metrics': [{'key': 'died_counter', 'type': 'COUNTER', 'value': 1}, {'key': 'gauge_runtime', 'type': 'GAUGE', 'value': 0.0011475086212158203}], 'requestPath': {'classifier': 'seldonio/titanic_svc:0.1'}}}\n",
      "\n",
      "#####################\n",
      "\n",
      "Braund, Mr. Owen Harris  survived\n",
      "\n",
      " \n",
      "{'data': {'names': [], 'ndarray': [1.0]}, 'meta': {'metrics': [{'key': 'survived_counter', 'type': 'COUNTER', 'value': 1}, {'key': 'gauge_runtime', 'type': 'GAUGE', 'value': 0.0012326240539550781}], 'requestPath': {'classifier': 'seldonio/titanic:1.8.5'}}}\n",
      "\n",
      "#####################\n",
      "\n",
      "Cumings, Mrs. John Bradley (Florence Briggs Thayer)  died\n",
      "\n",
      "{'data': {'names': [], 'ndarray': [0]}, 'meta': {'metrics': [{'key': 'died_counter', 'type': 'COUNTER', 'value': 1}, {'key': 'gauge_runtime', 'type': 'GAUGE', 'value': 0.00033211708068847656}], 'requestPath': {'classifier': 'seldonio/titanic_svc:0.1'}}}\n",
      "\n",
      "#####################\n",
      "\n",
      "Heikkinen, Miss. Laina  survived\n",
      "\n",
      " \n",
      "{'data': {'names': [], 'ndarray': [1.0]}, 'meta': {'metrics': [{'key': 'survived_counter', 'type': 'COUNTER', 'value': 1}, {'key': 'gauge_runtime', 'type': 'GAUGE', 'value': 0.00032711029052734375}], 'requestPath': {'classifier': 'seldonio/titanic:1.8.5'}}}\n",
      "\n",
      "#####################\n",
      "\n",
      "Futrelle, Mrs. Jacques Heath (Lily May Peel)  died\n",
      "\n",
      "{'data': {'names': [], 'ndarray': [0.0]}, 'meta': {'metrics': [{'key': 'died_counter', 'type': 'COUNTER', 'value': 1}, {'key': 'gauge_runtime', 'type': 'GAUGE', 'value': 0.00040078163146972656}], 'requestPath': {'classifier': 'seldonio/titanic:1.8.5'}}}\n",
      "\n",
      "#####################\n",
      "\n",
      "Allen, Mr. William Henry  survived\n",
      "\n",
      " \n",
      "{'data': {'names': [], 'ndarray': [0]}, 'meta': {'metrics': [{'key': 'died_counter', 'type': 'COUNTER', 'value': 1}, {'key': 'gauge_runtime', 'type': 'GAUGE', 'value': 0.0005939006805419922}], 'requestPath': {'classifier': 'seldonio/titanic_svc:0.1'}}}\n",
      "\n",
      "#####################\n",
      "\n",
      "Moran, Mr. James  survived\n",
      "\n",
      " \n",
      "{'data': {'names': [], 'ndarray': [0.0]}, 'meta': {'metrics': [{'key': 'died_counter', 'type': 'COUNTER', 'value': 1}, {'key': 'gauge_runtime', 'type': 'GAUGE', 'value': 0.0006513595581054688}], 'requestPath': {'classifier': 'seldonio/titanic:1.8.5'}}}\n",
      "\n",
      "#####################\n",
      "\n",
      "McCarthy, Mr. Timothy J  survived\n",
      "\n",
      " \n",
      "{'data': {'names': [], 'ndarray': [0]}, 'meta': {'metrics': [{'key': 'died_counter', 'type': 'COUNTER', 'value': 1}, {'key': 'gauge_runtime', 'type': 'GAUGE', 'value': 0.0003571510314941406}], 'requestPath': {'classifier': 'seldonio/titanic_svc:0.1'}}}\n",
      "\n",
      "#####################\n",
      "\n",
      "Palsson, Master. Gosta Leonard  survived\n",
      "\n",
      " \n",
      "{'data': {'names': [], 'ndarray': [0]}, 'meta': {'metrics': [{'key': 'died_counter', 'type': 'COUNTER', 'value': 1}, {'key': 'gauge_runtime', 'type': 'GAUGE', 'value': 0.0003714561462402344}], 'requestPath': {'classifier': 'seldonio/titanic_svc:0.1'}}}\n",
      "\n",
      "#####################\n",
      "\n",
      "Johnson, Mrs. Oscar W (Elisabeth Vilhelmina Berg)  survived\n",
      "\n",
      " \n",
      "{'data': {'names': [], 'ndarray': [1.0]}, 'meta': {'metrics': [{'key': 'survived_counter', 'type': 'COUNTER', 'value': 1}, {'key': 'gauge_runtime', 'type': 'GAUGE', 'value': 0.0002732276916503906}], 'requestPath': {'classifier': 'seldonio/titanic:1.8.5'}}}\n",
      "\n",
      "#####################\n",
      "\n",
      "Nasser, Mrs. Nicholas (Adele Achem)  died\n",
      "\n",
      "{'data': {'names': [], 'ndarray': [0]}, 'meta': {'metrics': [{'key': 'died_counter', 'type': 'COUNTER', 'value': 1}, {'key': 'gauge_runtime', 'type': 'GAUGE', 'value': 0.00027251243591308594}], 'requestPath': {'classifier': 'seldonio/titanic_svc:0.1'}}}\n",
      "\n",
      "#####################\n",
      "\n",
      "Sandstrom, Miss. Marguerite Rut  survived\n",
      "\n",
      " \n",
      "{'data': {'names': [], 'ndarray': [1.0]}, 'meta': {'metrics': [{'key': 'survived_counter', 'type': 'COUNTER', 'value': 1}, {'key': 'gauge_runtime', 'type': 'GAUGE', 'value': 0.00028586387634277344}], 'requestPath': {'classifier': 'seldonio/titanic:1.8.5'}}}\n",
      "\n",
      "#####################\n",
      "\n",
      "Bonnell, Miss. Elizabeth  died\n",
      "\n",
      "{'data': {'names': [], 'ndarray': [0.0]}, 'meta': {'metrics': [{'key': 'died_counter', 'type': 'COUNTER', 'value': 1}, {'key': 'gauge_runtime', 'type': 'GAUGE', 'value': 0.0002887248992919922}], 'requestPath': {'classifier': 'seldonio/titanic:1.8.5'}}}\n",
      "\n",
      "#####################\n",
      "\n",
      "Saundercock, Mr. William Henry  survived\n",
      "\n",
      " \n",
      "{'data': {'names': [], 'ndarray': [0.0]}, 'meta': {'metrics': [{'key': 'died_counter', 'type': 'COUNTER', 'value': 1}, {'key': 'gauge_runtime', 'type': 'GAUGE', 'value': 0.00027871131896972656}], 'requestPath': {'classifier': 'seldonio/titanic:1.8.5'}}}\n",
      "\n",
      "#####################\n",
      "\n",
      "Andersson, Mr. Anders Johan  survived\n",
      "\n",
      " \n",
      "{'data': {'names': [], 'ndarray': [1.0]}, 'meta': {'metrics': [{'key': 'survived_counter', 'type': 'COUNTER', 'value': 1}, {'key': 'gauge_runtime', 'type': 'GAUGE', 'value': 0.000896453857421875}], 'requestPath': {'classifier': 'seldonio/titanic:1.8.5'}}}\n",
      "\n",
      "#####################\n",
      "\n",
      "Vestrom, Miss. Hulda Amanda Adolfina  died\n",
      "\n",
      "{'data': {'names': [], 'ndarray': [1.0]}, 'meta': {'metrics': [{'key': 'survived_counter', 'type': 'COUNTER', 'value': 1}, {'key': 'gauge_runtime', 'type': 'GAUGE', 'value': 0.0003204345703125}], 'requestPath': {'classifier': 'seldonio/titanic:1.8.5'}}}\n",
      "\n",
      "#####################\n",
      "\n",
      "Hewlett, Mrs. (Mary D Kingcome)   died\n",
      "\n",
      "{'data': {'names': [], 'ndarray': [0.0]}, 'meta': {'metrics': [{'key': 'died_counter', 'type': 'COUNTER', 'value': 1}, {'key': 'gauge_runtime', 'type': 'GAUGE', 'value': 0.0002872943878173828}], 'requestPath': {'classifier': 'seldonio/titanic:1.8.5'}}}\n",
      "\n",
      "#####################\n",
      "\n",
      "Rice, Master. Eugene  survived\n",
      "\n",
      " \n",
      "{'data': {'names': [], 'ndarray': [0]}, 'meta': {'metrics': [{'key': 'died_counter', 'type': 'COUNTER', 'value': 1}, {'key': 'gauge_runtime', 'type': 'GAUGE', 'value': 0.0002830028533935547}], 'requestPath': {'classifier': 'seldonio/titanic_svc:0.1'}}}\n",
      "\n",
      "#####################\n",
      "\n",
      "Williams, Mr. Charles Eugene  survived\n",
      "\n",
      " \n",
      "{'data': {'names': [], 'ndarray': [1.0]}, 'meta': {'metrics': [{'key': 'survived_counter', 'type': 'COUNTER', 'value': 1}, {'key': 'gauge_runtime', 'type': 'GAUGE', 'value': 0.0006716251373291016}], 'requestPath': {'classifier': 'seldonio/titanic:1.8.5'}}}\n",
      "\n",
      "#####################\n",
      "\n",
      "Vander Planke, Mrs. Julius (Emelia Maria Vandemoortele)  died\n",
      "\n",
      "{'data': {'names': [], 'ndarray': [1]}, 'meta': {'metrics': [{'key': 'survived_counter', 'type': 'COUNTER', 'value': 1}, {'key': 'gauge_runtime', 'type': 'GAUGE', 'value': 0.0013246536254882812}], 'requestPath': {'classifier': 'seldonio/titanic_svc:0.1'}}}\n",
      "\n",
      "#####################\n",
      "\n",
      "Masselmani, Mrs. Fatima  died\n",
      "\n"
     ]
    }
   ],
   "source": [
    "import numpy as np\n",
    "from seldon_core.seldon_client import SeldonClient\n",
    "import pandas as pd\n",
    "\n",
    "df = pd.read_csv(\"../data/train.csv\")\n",
    "\n",
    "sc = SeldonClient(\n",
    "    gateway=\"istio\",\n",
    "    transport=\"rest\",\n",
    "    gateway_endpoint=\"localhost:8081\",  \n",
    "    namespace=\"default\",\n",
    ")\n",
    "\n",
    "for i in range (0,20):\n",
    "\n",
    "\n",
    "    client_prediction = sc.predict(\n",
    "        data=np.array([df.iloc[i][\"Pclass\"],df.iloc[i][\"Sex\"],df.iloc[i][\"Age\"],df.iloc[i][\"SibSp\"],df.iloc[i][\"Parch\"],df.iloc[i][\"Fare\"],df.iloc[i][\"Embarked\"]]),\n",
    "        deployment_name=\"ab-test\",\n",
    "        names=['pclass', 'sex', 'age', 'sibSp', 'parch', 'fare', 'embarked'],\n",
    "        payload_type=\"ndarray\",\n",
    "    )\n",
    "    prediction = (client_prediction)\n",
    "    print(client_prediction.response)\n",
    "    print(\"\")\n",
    "    print(\"#####################\")\n",
    "    print('')\n",
    "    if prediction.response[\"data\"][\"ndarray\"][0] == 1:\n",
    "        print(df.iloc[i][\"Name\"], \" died\")\n",
    "        print('')\n",
    "\n",
    "    else:\n",
    "        print(df.iloc[i][\"Name\"],\" survived\")\n",
    "        print(\"\")\n",
    "        print(\" \")"
   ]
  },
  {
   "cell_type": "code",
   "execution_count": 2,
   "id": "fafdd243",
   "metadata": {},
   "outputs": [
    {
     "data": {
      "text/plain": [
       "{'data': {'names': [], 'ndarray': [1]},\n",
       " 'meta': {'metrics': [{'key': 'survived_counter',\n",
       "    'type': 'COUNTER',\n",
       "    'value': 1},\n",
       "   {'key': 'gauge_runtime', 'type': 'GAUGE', 'value': 0.0013246536254882812}],\n",
       "  'requestPath': {'classifier': 'seldonio/titanic_svc:0.1'}}}"
      ]
     },
     "execution_count": 2,
     "metadata": {},
     "output_type": "execute_result"
    }
   ],
   "source": [
    "prediction.response"
   ]
  },
  {
   "cell_type": "code",
   "execution_count": 83,
   "id": "9871d9a5",
   "metadata": {},
   "outputs": [
    {
     "data": {
      "text/plain": [
       "False"
      ]
     },
     "execution_count": 83,
     "metadata": {},
     "output_type": "execute_result"
    }
   ],
   "source": [
    "df.iloc[5][\"Age\"].tolist() == df.iloc[5][\"Age\"].tolist()"
   ]
  },
  {
   "cell_type": "code",
   "execution_count": 91,
   "id": "9aa6ad0b",
   "metadata": {},
   "outputs": [
    {
     "data": {
      "text/plain": [
       "numpy.float64"
      ]
     },
     "execution_count": 91,
     "metadata": {},
     "output_type": "execute_result"
    }
   ],
   "source": [
    "import math\n",
    "\n",
    "type(df.iloc[5][\"Age\"])"
   ]
  },
  {
   "cell_type": "code",
   "execution_count": 109,
   "id": "9d9dcf7d",
   "metadata": {},
   "outputs": [
    {
     "data": {
      "text/plain": [
       "str"
      ]
     },
     "execution_count": 109,
     "metadata": {},
     "output_type": "execute_result"
    }
   ],
   "source": [
    "type(np.array2string(df.iloc[5][\"Age\"]))"
   ]
  },
  {
   "cell_type": "code",
   "execution_count": 4,
   "id": "38c7186f",
   "metadata": {},
   "outputs": [
    {
     "data": {
      "text/plain": [
       "9.846687316894531e-05"
      ]
     },
     "execution_count": 4,
     "metadata": {},
     "output_type": "execute_result"
    }
   ],
   "source": [
    "0.000522613525390625 - 0.0004241466522216797"
   ]
  },
  {
   "cell_type": "code",
   "execution_count": null,
   "id": "7f993004",
   "metadata": {},
   "outputs": [],
   "source": []
  }
 ],
 "metadata": {
  "kernelspec": {
   "display_name": "Python 3 (ipykernel)",
   "language": "python",
   "name": "python3"
  },
  "language_info": {
   "codemirror_mode": {
    "name": "ipython",
    "version": 3
   },
   "file_extension": ".py",
   "mimetype": "text/x-python",
   "name": "python",
   "nbconvert_exporter": "python",
   "pygments_lexer": "ipython3",
   "version": "3.8.15"
  }
 },
 "nbformat": 4,
 "nbformat_minor": 5
}
