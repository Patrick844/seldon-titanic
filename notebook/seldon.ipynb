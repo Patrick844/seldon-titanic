{
 "cells": [
  {
   "cell_type": "code",
   "execution_count": 2,
   "id": "b07e7f8d",
   "metadata": {},
   "outputs": [
    {
     "name": "stdout",
     "output_type": "stream",
     "text": [
      "\n",
      "#####################\n",
      "\n",
      "Braund, Mr. Owen Harris  survived\n",
      "\n",
      " \n",
      "\n",
      "#####################\n",
      "\n",
      "Cumings, Mrs. John Bradley (Florence Briggs Thayer)  died\n",
      "\n",
      " \n",
      "\n",
      "#####################\n",
      "\n",
      "Heikkinen, Miss. Laina  died\n",
      "\n",
      " \n",
      "\n",
      "#####################\n",
      "\n",
      "Futrelle, Mrs. Jacques Heath (Lily May Peel)  died\n",
      "\n",
      " \n"
     ]
    }
   ],
   "source": [
    "import numpy as np\n",
    "from seldon_core.seldon_client import SeldonClient\n",
    "import pandas as pd\n",
    "\n",
    "df = pd.read_csv(\"../data/train.csv\")\n",
    "\n",
    "sc = SeldonClient(\n",
    "    gateway=\"istio\",\n",
    "    transport=\"rest\",\n",
    "    gateway_endpoint=\"localhost:8081\",  # Make sure you use the port above\n",
    "    namespace=\"default\",\n",
    ")\n",
    "\n",
    "for i in range (0,4):\n",
    "\n",
    "    client_prediction = sc.predict(\n",
    "        data=np.array([df.iloc[i][\"Pclass\"],df.iloc[i][\"Sex\"],df.iloc[i][\"Age\"],df.iloc[i][\"SibSp\"],df.iloc[i][\"Parch\"],df.iloc[i][\"Fare\"],df.iloc[i][\"Embarked\"]]),\n",
    "        deployment_name=\"titanic-classifier\",\n",
    "        names=['pclass', 'sex', 'age', 'sibSp', 'parch', 'fare', 'embarked'],\n",
    "        payload_type=\"ndarray\",\n",
    "    )\n",
    "    prediction = (client_prediction)\n",
    "    print(\"\")\n",
    "    print(\"#####################\")\n",
    "    print('')\n",
    "    if prediction.response[\"data\"][\"ndarray\"][0] == 1:\n",
    "        print(df.iloc[i][\"Name\"], \" died\")\n",
    "        print('')\n",
    "        print(\" \")\n",
    "    else:\n",
    "        print(df.iloc[i][\"Name\"],\" survived\")\n",
    "        print(\"\")\n",
    "        print(\" \")"
   ]
  },
  {
   "cell_type": "code",
   "execution_count": null,
   "id": "8d29eff8",
   "metadata": {},
   "outputs": [],
   "source": []
  }
 ],
 "metadata": {
  "kernelspec": {
   "display_name": "Python 3 (ipykernel)",
   "language": "python",
   "name": "python3"
  },
  "language_info": {
   "codemirror_mode": {
    "name": "ipython",
    "version": 3
   },
   "file_extension": ".py",
   "mimetype": "text/x-python",
   "name": "python",
   "nbconvert_exporter": "python",
   "pygments_lexer": "ipython3",
   "version": "3.8.15"
  }
 },
 "nbformat": 4,
 "nbformat_minor": 5
}
